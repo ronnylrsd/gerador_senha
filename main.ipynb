{
 "cells": [
  {
   "cell_type": "code",
   "execution_count": 5,
   "metadata": {},
   "outputs": [
    {
     "name": "stdout",
     "output_type": "stream",
     "text": [
      "abcdefghijklmnopqrstuvwxyzABCDEFGHIJKLMNOPQRSTUVWXYZ\n",
      "0123456789\n",
      "!\"#$%&'()*+,-./:;<=>?@[\\]^_`{|}~\n"
     ]
    }
   ],
   "source": [
    "import string\n",
    "\n",
    "print(string.ascii_letters)\n",
    "print(string.digits)\n",
    "print(string.punctuation)"
   ]
  },
  {
   "cell_type": "code",
   "execution_count": 6,
   "metadata": {},
   "outputs": [
    {
     "data": {
      "text/plain": [
       "'0'"
      ]
     },
     "execution_count": 6,
     "metadata": {},
     "output_type": "execute_result"
    }
   ],
   "source": [
    "import random\n",
    "\n",
    "random.choice(string.digits)"
   ]
  },
  {
   "cell_type": "code",
   "execution_count": 7,
   "metadata": {},
   "outputs": [
    {
     "name": "stdout",
     "output_type": "stream",
     "text": [
      "['0', '9', '3', '6', '0']\n"
     ]
    }
   ],
   "source": [
    "numbers = random.choices(string.digits, k=5)\n",
    "print(numbers)"
   ]
  },
  {
   "cell_type": "code",
   "execution_count": 8,
   "metadata": {},
   "outputs": [
    {
     "name": "stdout",
     "output_type": "stream",
     "text": [
      "['3', '9', '6', '0', '0']\n"
     ]
    }
   ],
   "source": [
    "random.shuffle(numbers)\n",
    "print(numbers)"
   ]
  },
  {
   "cell_type": "code",
   "execution_count": 3,
   "metadata": {},
   "outputs": [
    {
     "name": "stdout",
     "output_type": "stream",
     "text": [
      "OWOPPA62F!0H\n"
     ]
    }
   ],
   "source": [
    "import random\n",
    "import string\n",
    "\n",
    "def password_generator(length, special_chars, include_uppercase, include_lowercase):\n",
    "    if length < 4:\n",
    "        print(\"The length of the password is too short.\")\n",
    "        return\n",
    "    \n",
    "    password = []\n",
    "    \n",
    "    if include_uppercase:\n",
    "        password.append(random.choice(string.ascii_uppercase))\n",
    "    if include_lowercase:\n",
    "        password.append(random.choice(string.ascii_lowercase))\n",
    "    if special_chars:\n",
    "        password.append(random.choice(special_chars))\n",
    "    \n",
    "    # Garante pelo menos um dígito\n",
    "    password.append(random.choice(string.digits))\n",
    "    \n",
    "    # Calcula quantos caracteres faltam adicionar\n",
    "    remaining_length = length - len(password)\n",
    "    \n",
    "    possibilities = string.digits + special_chars\n",
    "    if include_uppercase:\n",
    "        possibilities += string.ascii_uppercase\n",
    "    if include_lowercase:\n",
    "        possibilities += string.ascii_lowercase\n",
    "    \n",
    "    password.extend(random.choices(possibilities, k=remaining_length))\n",
    "    random.shuffle(password)\n",
    "    return \"\".join(password)\n",
    "\n",
    "# Solicitações ao usuário\n",
    "length = int(input(\"Enter the length of the password: \"))\n",
    "special_chars_input = input(\"Enter the special characters you want to include: \")\n",
    "include_uppercase = input(\"Include uppercase letters? (yes/no): \").lower() == 'yes'\n",
    "include_lowercase = input(\"Include lowercase letters? (yes/no): \").lower() == 'yes'\n",
    "\n",
    "print(password_generator(length, special_chars_input, include_uppercase, include_lowercase))\n"
   ]
  }
 ],
 "metadata": {
  "kernelspec": {
   "display_name": "Python 3",
   "language": "python",
   "name": "python3"
  },
  "language_info": {
   "codemirror_mode": {
    "name": "ipython",
    "version": 3
   },
   "file_extension": ".py",
   "mimetype": "text/x-python",
   "name": "python",
   "nbconvert_exporter": "python",
   "pygments_lexer": "ipython3",
   "version": "3.8.0"
  }
 },
 "nbformat": 4,
 "nbformat_minor": 2
}
